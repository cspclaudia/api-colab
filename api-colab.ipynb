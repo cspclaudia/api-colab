{
  "cells": [
    {
      "cell_type": "code",
      "execution_count": 10,
      "metadata": {
        "colab": {
          "base_uri": "https://localhost:8080/"
        },
        "id": "mxK5AU6i-VaL",
        "outputId": "7042b0e4-64ee-49b9-fceb-93cc688a4c6d"
      },
      "outputs": [
        {
          "name": "stdout",
          "output_type": "stream",
          "text": [
            "Requirement already satisfied: fastapi in c:\\users\\cspcl\\appdata\\local\\programs\\python\\python310\\lib\\site-packages (0.70.0)\n",
            "Requirement already satisfied: nest-asyncio in c:\\users\\cspcl\\appdata\\local\\programs\\python\\python310\\lib\\site-packages (1.5.4)\n",
            "Requirement already satisfied: pyngrok in c:\\users\\cspcl\\appdata\\local\\programs\\python\\python310\\lib\\site-packages (5.1.0)\n",
            "Requirement already satisfied: uvicorn in c:\\users\\cspcl\\appdata\\local\\programs\\python\\python310\\lib\\site-packages (0.16.0)Note: you may need to restart the kernel to use updated packages.\n",
            "\n",
            "Requirement already satisfied: jinja2 in c:\\users\\cspcl\\appdata\\local\\programs\\python\\python310\\lib\\site-packages (3.0.3)\n",
            "Requirement already satisfied: numpy in c:\\users\\cspcl\\appdata\\local\\programs\\python\\python310\\lib\\site-packages (1.21.4)\n",
            "Requirement already satisfied: scikit-learn in c:\\users\\cspcl\\appdata\\local\\programs\\python\\python310\\lib\\site-packages (1.1.dev0)\n",
            "Requirement already satisfied: requests in c:\\users\\cspcl\\appdata\\local\\programs\\python\\python310\\lib\\site-packages (2.26.0)\n",
            "Requirement already satisfied: pydantic!=1.7,!=1.7.1,!=1.7.2,!=1.7.3,!=1.8,!=1.8.1,<2.0.0,>=1.6.2 in c:\\users\\cspcl\\appdata\\local\\programs\\python\\python310\\lib\\site-packages (from fastapi) (1.8.2)\n",
            "Requirement already satisfied: starlette==0.16.0 in c:\\users\\cspcl\\appdata\\local\\programs\\python\\python310\\lib\\site-packages (from fastapi) (0.16.0)\n",
            "Requirement already satisfied: anyio<4,>=3.0.0 in c:\\users\\cspcl\\appdata\\local\\programs\\python\\python310\\lib\\site-packages (from starlette==0.16.0->fastapi) (3.4.0)\n",
            "Requirement already satisfied: PyYAML in c:\\users\\cspcl\\appdata\\local\\programs\\python\\python310\\lib\\site-packages (from pyngrok) (6.0)\n",
            "Requirement already satisfied: click>=7.0 in c:\\users\\cspcl\\appdata\\local\\programs\\python\\python310\\lib\\site-packages (from uvicorn) (8.0.3)\n",
            "Requirement already satisfied: asgiref>=3.4.0 in c:\\users\\cspcl\\appdata\\local\\programs\\python\\python310\\lib\\site-packages (from uvicorn) (3.4.1)\n",
            "Requirement already satisfied: h11>=0.8 in c:\\users\\cspcl\\appdata\\local\\programs\\python\\python310\\lib\\site-packages (from uvicorn) (0.12.0)\n",
            "Requirement already satisfied: MarkupSafe>=2.0 in c:\\users\\cspcl\\appdata\\local\\programs\\python\\python310\\lib\\site-packages (from jinja2) (2.0.1)\n",
            "Requirement already satisfied: joblib>=0.11 in c:\\users\\cspcl\\appdata\\local\\programs\\python\\python310\\lib\\site-packages (from scikit-learn) (1.1.0)\n",
            "Requirement already satisfied: threadpoolctl>=2.0.0 in c:\\users\\cspcl\\appdata\\local\\programs\\python\\python310\\lib\\site-packages (from scikit-learn) (3.0.0)\n",
            "Requirement already satisfied: scipy>=1.1.0 in c:\\users\\cspcl\\appdata\\local\\programs\\python\\python310\\lib\\site-packages (from scikit-learn) (1.7.3)\n",
            "Requirement already satisfied: idna<4,>=2.5 in c:\\users\\cspcl\\appdata\\local\\programs\\python\\python310\\lib\\site-packages (from requests) (3.3)\n",
            "Requirement already satisfied: urllib3<1.27,>=1.21.1 in c:\\users\\cspcl\\appdata\\local\\programs\\python\\python310\\lib\\site-packages (from requests) (1.26.7)\n",
            "Requirement already satisfied: certifi>=2017.4.17 in c:\\users\\cspcl\\appdata\\local\\programs\\python\\python310\\lib\\site-packages (from requests) (2021.10.8)\n",
            "Requirement already satisfied: charset-normalizer~=2.0.0 in c:\\users\\cspcl\\appdata\\local\\programs\\python\\python310\\lib\\site-packages (from requests) (2.0.9)\n",
            "Requirement already satisfied: colorama in c:\\users\\cspcl\\appdata\\local\\programs\\python\\python310\\lib\\site-packages (from click>=7.0->uvicorn) (0.4.4)\n",
            "Requirement already satisfied: typing-extensions>=3.7.4.3 in c:\\users\\cspcl\\appdata\\local\\programs\\python\\python310\\lib\\site-packages (from pydantic!=1.7,!=1.7.1,!=1.7.2,!=1.7.3,!=1.8,!=1.8.1,<2.0.0,>=1.6.2->fastapi) (4.0.1)\n",
            "Requirement already satisfied: sniffio>=1.1 in c:\\users\\cspcl\\appdata\\local\\programs\\python\\python310\\lib\\site-packages (from anyio<4,>=3.0.0->starlette==0.16.0->fastapi) (1.2.0)\n"
          ]
        }
      ],
      "source": [
        "%pip install fastapi nest-asyncio pyngrok uvicorn jinja2 numpy scikit-learn requests"
      ]
    },
    {
      "cell_type": "code",
      "execution_count": 2,
      "metadata": {
        "id": "6fjKxwTz-blu"
      },
      "outputs": [],
      "source": [
        "import pickle\n",
        "import numpy as np\n",
        "import warnings\n",
        "warnings.filterwarnings('ignore')\n",
        "from fastapi import FastAPI, Request\n",
        "from fastapi.staticfiles import StaticFiles\n",
        "from fastapi.templating import Jinja2Templates\n",
        "import nest_asyncio\n",
        "import uvicorn\n",
        "from pyngrok import ngrok\n",
        "from pydantic import BaseModel\n",
        "from starlette.responses import FileResponse\n",
        "import requests\n",
        "import json"
      ]
    },
    {
      "cell_type": "code",
      "execution_count": 3,
      "metadata": {
        "id": "jhmmMpaJFGx2"
      },
      "outputs": [],
      "source": [
        "class IrisSpecies(BaseModel):\n",
        "  sepal_length: float\n",
        "  sepal_width: float\n",
        "  petal_length: float\n",
        "  petal_width: float"
      ]
    },
    {
      "cell_type": "code",
      "execution_count": 4,
      "metadata": {
        "id": "oI4RriXJKacK"
      },
      "outputs": [],
      "source": [
        "app = FastAPI()"
      ]
    },
    {
      "cell_type": "code",
      "execution_count": 5,
      "metadata": {
        "id": "C_A4LnnLMq8I"
      },
      "outputs": [],
      "source": [
        "@app.get('/')\n",
        "async def sample():\n",
        "  loaded_X = pickle.load(open('X_train.pkl', 'rb'))\n",
        "\n",
        "  x0 = np.random.normal(loaded_X[:, 0].mean(), loaded_X[:, 0].std(), 1)\n",
        "  x1 = np.random.normal(loaded_X[:, 1].mean(), loaded_X[:, 1].std(), 1)\n",
        "  x2 = np.random.normal(loaded_X[:, 2].mean(), loaded_X[:, 2].std(), 1)\n",
        "  x3 = np.random.normal(loaded_X[:, 3].mean(), loaded_X[:, 3].std(), 1)\n",
        "\n",
        "  return {\n",
        "    'sepal_length': x0[0],\n",
        "    'sepal_width': x1[0],\n",
        "    'petal_length': x2[0],\n",
        "    'petal_width': x3[0]\n",
        "    }"
      ]
    },
    {
      "cell_type": "code",
      "execution_count": 6,
      "metadata": {
        "id": "3EufRR1xhL7C"
      },
      "outputs": [],
      "source": [
        "@app.post('/')\n",
        "async def predict(iris: IrisSpecies):\n",
        "  data = iris.dict()\n",
        "  loaded_model = pickle.load(open('model.pkl', 'rb'))\n",
        "\n",
        "  data_in = [[data['sepal_length'], data['sepal_width'], data['petal_length'], data['petal_width']]]\n",
        "  prediction = loaded_model.predict(data_in)\n",
        "  probability = loaded_model.predict_proba(data_in).max()\n",
        "  iris_type = ['Iris Setosa', 'Iris Virginica', 'Iris Versicolor']\n",
        "  \n",
        "  return {\n",
        "    'prediction': int(prediction[0]),\n",
        "    'iris_specie': iris_type[int(prediction[0])-1],\n",
        "    'probability': probability\n",
        "  }"
      ]
    },
    {
      "cell_type": "code",
      "execution_count": 7,
      "metadata": {},
      "outputs": [
        {
          "name": "stderr",
          "output_type": "stream",
          "text": [
            "t=2021-12-10T00:34:15-0300 lvl=warn msg=\"can't bind default web address, trying alternatives\" obj=web addr=127.0.0.1:4040\n",
            "INFO:     Started server process [14572]\n",
            "INFO:     Waiting for application startup.\n",
            "INFO:     Application startup complete.\n",
            "INFO:     Uvicorn running on http://127.0.0.1:8000 (Press CTRL+C to quit)\n"
          ]
        },
        {
          "name": "stdout",
          "output_type": "stream",
          "text": [
            "Public URL: http://6593-2804-14d-b086-5343-7cb5-f57a-ccb2-d577.ngrok.io\n"
          ]
        },
        {
          "name": "stderr",
          "output_type": "stream",
          "text": [
            "INFO:     Shutting down\n",
            "INFO:     Waiting for application shutdown.\n",
            "INFO:     Application shutdown complete.\n",
            "INFO:     Finished server process [14572]\n"
          ]
        }
      ],
      "source": [
        "ngrok_tunnel = ngrok.connect(8000)\n",
        "print('Public URL:', ngrok_tunnel.public_url)\n",
        "nest_asyncio.apply()\n",
        "uvicorn.run(app, port=8000)"
      ]
    },
    {
      "cell_type": "code",
      "execution_count": 9,
      "metadata": {},
      "outputs": [
        {
          "name": "stdout",
          "output_type": "stream",
          "text": [
            "Note: you may need to restart the kernel to use updated packages.\n"
          ]
        }
      ],
      "source": [
        "# %pip freeze > requirements.txt"
      ]
    },
    {
      "cell_type": "code",
      "execution_count": null,
      "metadata": {},
      "outputs": [],
      "source": [
        "# version = !python --version\n",
        "# version = version[0].lower().replace(\" \",\"-\")\n",
        "# !echo $version > runtime.txt"
      ]
    },
    {
      "cell_type": "code",
      "execution_count": null,
      "metadata": {},
      "outputs": [],
      "source": [
        "# %echo web: voila --port=$PORT --no-browser api-colab.ipynb > Procfile"
      ]
    }
  ],
  "metadata": {
    "colab": {
      "collapsed_sections": [],
      "name": "Cópia de API Restiful.ipynb",
      "provenance": []
    },
    "kernelspec": {
      "display_name": "Python 3",
      "name": "python3"
    },
    "language_info": {
      "codemirror_mode": {
        "name": "ipython",
        "version": 3
      },
      "file_extension": ".py",
      "mimetype": "text/x-python",
      "name": "python",
      "nbconvert_exporter": "python",
      "pygments_lexer": "ipython3",
      "version": "3.10.1"
    }
  },
  "nbformat": 4,
  "nbformat_minor": 0
}
