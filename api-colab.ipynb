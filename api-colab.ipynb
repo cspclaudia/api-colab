{
  "cells": [
    {
      "cell_type": "code",
      "execution_count": null,
      "metadata": {
        "colab": {
          "base_uri": "https://localhost:8080/"
        },
        "id": "mxK5AU6i-VaL",
        "outputId": "7042b0e4-64ee-49b9-fceb-93cc688a4c6d"
      },
      "outputs": [],
      "source": [
        "%pip install fastapi nest-asyncio pyngrok uvicorn jinja2 numpy"
      ]
    },
    {
      "cell_type": "code",
      "execution_count": null,
      "metadata": {},
      "outputs": [],
      "source": [
        "%pip install voila"
      ]
    },
    {
      "cell_type": "code",
      "execution_count": null,
      "metadata": {},
      "outputs": [],
      "source": [
        "%pip install scikit-learn"
      ]
    },
    {
      "cell_type": "code",
      "execution_count": null,
      "metadata": {
        "id": "6fjKxwTz-blu"
      },
      "outputs": [],
      "source": [
        "import pickle\n",
        "import numpy as np\n",
        "import warnings\n",
        "warnings.filterwarnings('ignore')\n",
        "from fastapi import FastAPI, Request\n",
        "from fastapi.staticfiles import StaticFiles\n",
        "from fastapi.templating import Jinja2Templates\n",
        "import nest_asyncio\n",
        "import uvicorn\n",
        "from pyngrok import ngrok\n",
        "from pydantic import BaseModel\n",
        "from starlette.responses import FileResponse"
      ]
    },
    {
      "cell_type": "code",
      "execution_count": null,
      "metadata": {
        "id": "jhmmMpaJFGx2"
      },
      "outputs": [],
      "source": [
        "class IrisSpecies(BaseModel):\n",
        "  sepal_length: float\n",
        "  sepal_width: float\n",
        "  petal_length: float\n",
        "  petal_width: float"
      ]
    },
    {
      "cell_type": "code",
      "execution_count": null,
      "metadata": {
        "id": "oI4RriXJKacK"
      },
      "outputs": [],
      "source": [
        "app = FastAPI()"
      ]
    },
    {
      "cell_type": "code",
      "execution_count": null,
      "metadata": {
        "id": "C_A4LnnLMq8I"
      },
      "outputs": [],
      "source": [
        "@app.get('/')\n",
        "async def sample():\n",
        "  loaded_X = pickle.load(open('X_train.pkl', 'rb'))\n",
        "\n",
        "  x0 = np.random.normal(loaded_X[:, 0].mean(), loaded_X[:, 0].std(), 1)\n",
        "  x1 = np.random.normal(loaded_X[:, 1].mean(), loaded_X[:, 1].std(), 1)\n",
        "  x2 = np.random.normal(loaded_X[:, 2].mean(), loaded_X[:, 2].std(), 1)\n",
        "  x3 = np.random.normal(loaded_X[:, 3].mean(), loaded_X[:, 3].std(), 1)\n",
        "\n",
        "  return {\n",
        "    'sepal_length': x0[0],\n",
        "    'sepal_width': x1[0],\n",
        "    'petal_length': x2[0],\n",
        "    'petal_width': x3[0]\n",
        "    }"
      ]
    },
    {
      "cell_type": "code",
      "execution_count": null,
      "metadata": {
        "id": "3EufRR1xhL7C"
      },
      "outputs": [],
      "source": [
        "@app.post('/')\n",
        "async def predict(iris: IrisSpecies):\n",
        "  data = iris.dict()\n",
        "  loaded_model = pickle.load(open('model.pkl', 'rb'))\n",
        "  print(loaded_model)\n",
        "  data_in = [[data['sepal_length'], data['sepal_width'], data['petal_length'], data['petal_width']]]\n",
        "  prediction = loaded_model.predict(data_in)\n",
        "  probability = loaded_model.predict_proba(data_in).max()\n",
        "  iris_type = ['Iris Setosa', 'Iris Virginica', 'Iris Versicolor']\n",
        "  return {\n",
        "    'prediction': int(prediction[0]),\n",
        "    'iris_specie': iris_type[int(prediction[0])-1],\n",
        "    'probability': probability\n",
        "  }"
      ]
    },
    {
      "cell_type": "code",
      "execution_count": null,
      "metadata": {},
      "outputs": [],
      "source": [
        "# ngrok_tunnel = ngrok.connect(8000)\n",
        "# print('Public URL:', ngrok_tunnel.public_url)\n",
        "# nest_asyncio.apply()\n",
        "# uvicorn.run(app, port=8000)"
      ]
    },
    {
      "cell_type": "code",
      "execution_count": null,
      "metadata": {},
      "outputs": [],
      "source": [
        "# %pip freeze > requirements.txt"
      ]
    },
    {
      "cell_type": "code",
      "execution_count": null,
      "metadata": {},
      "outputs": [],
      "source": [
        "# version = !python --version\n",
        "# version = version[0].lower().replace(\" \",\"-\")\n",
        "# !echo $version > runtime.txt"
      ]
    },
    {
      "cell_type": "code",
      "execution_count": 9,
      "metadata": {},
      "outputs": [],
      "source": [
        "# %echo web: voila --port=$PORT --no-browser api-colab.ipynb > Procfile"
      ]
    },
    {
      "cell_type": "code",
      "execution_count": null,
      "metadata": {},
      "outputs": [],
      "source": [
        "%pip install requests\n",
        "import requests\n",
        "import json"
      ]
    },
    {
      "cell_type": "code",
      "execution_count": null,
      "metadata": {},
      "outputs": [],
      "source": [
        "# %pip install pypiwin32"
      ]
    }
  ],
  "metadata": {
    "colab": {
      "collapsed_sections": [],
      "name": "Cópia de API Restiful.ipynb",
      "provenance": []
    },
    "kernelspec": {
      "display_name": "Python 3",
      "name": "python3"
    },
    "language_info": {
      "codemirror_mode": {
        "name": "ipython",
        "version": 3
      },
      "file_extension": ".py",
      "mimetype": "text/x-python",
      "name": "python",
      "nbconvert_exporter": "python",
      "pygments_lexer": "ipython3",
      "version": "3.10.1"
    }
  },
  "nbformat": 4,
  "nbformat_minor": 0
}
